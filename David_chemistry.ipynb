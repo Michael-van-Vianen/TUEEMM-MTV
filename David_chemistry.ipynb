{
 "cells": [
  {
   "cell_type": "code",
   "execution_count": 2,
   "metadata": {},
   "outputs": [],
   "source": [
    "import pandas as pd\n",
    "import numpy as np\n",
    "import random as rand\n",
    "import tqdm\n",
    "import networkx as nx\n",
    "import pickle as pkl\n",
    "import gower"
   ]
  },
  {
   "cell_type": "code",
   "execution_count": 8,
   "metadata": {},
   "outputs": [],
   "source": [
    "with open('graph_349519.pkl', 'rb') as input:\n",
    "    graph = pkl.load(input)\n",
    "\n",
    "# Extracting data\n",
    "edge_index = graph['edge_index']\n",
    "num_nodes = graph['num_nodes']\n",
    "\n",
    "# Create a networkx graph\n",
    "G = nx.Graph()\n",
    "\n",
    "# Add nodes\n",
    "G.add_nodes_from(range(num_nodes))\n",
    "\n",
    "# Add edges\n",
    "edges = list(zip(edge_index[0], edge_index[1]))\n",
    "G.add_edges_from(edges)"
   ]
  },
  {
   "cell_type": "code",
   "execution_count": 116,
   "metadata": {},
   "outputs": [],
   "source": [
    "# Create a lookup table for gower distances\n",
    "attributes = graph['node_feat']\n",
    "lu = pd.DataFrame(attributes)"
   ]
  },
  {
   "cell_type": "code",
   "execution_count": 389,
   "metadata": {},
   "outputs": [],
   "source": [
    "def prototype(G):\n",
    "    prot = rand.choice([n for n in G])\n",
    "    return prot\n",
    "\n",
    "def getAttributes(x):\n",
    "    return [float(i) for i in attributes[x]]\n",
    "\n",
    "def ranking(x, S: nx.Graph):\n",
    "    D = nx.shortest_path_length(S, x)\n",
    "    distances = list(D.values())\n",
    "    D = list(zip(D.keys(),D.values()))\n",
    "\n",
    "\n",
    "    for d in np.unique(distances):\n",
    "        left, right = distances.index(d), len(distances) - distances[::-1].index(d)\n",
    "        tielist = D[left:right]\n",
    "        gowerlist = gower.gower_matrix(pd.DataFrame([getAttributes(x)]), pd.DataFrame([getAttributes(i[0]) for i in tielist]))\n",
    "        sorted_gower = [x for _,x in sorted(zip(gowerlist[0],tielist))]\n",
    "        D[left:right] = sorted_gower\n",
    "\n",
    "    return D\n",
    "\n",
    "def Q(S, G, target):\n",
    "    S_size = len(S)\n",
    "    G_size = len(G)\n",
    "    cover = S_size / G_size\n",
    "    \n",
    "    n_target_S = lu.loc[S][target].sum()\n",
    "    n_target_G = lu.loc[G][target].sum()\n",
    "\n",
    "    \n",
    "    WRAcc = (cover**0.5)* ((n_target_S/S_size) - (n_target_G/G_size))\n",
    "    RAcc = ((n_target_S/S_size) - (n_target_G/G_size))\n",
    "\n",
    "    return abs(WRAcc)\n",
    "\n",
    "def Discovery(ranks):\n",
    "    rho = 0\n",
    "    sigma = 0\n",
    "    best = 0\n",
    "\n",
    "    for i in range(1,len(ranks)):\n",
    "        q = Q([x[0] for x in ranks[0:i]], list(G.nodes), 'target')\n",
    "        if q >= best:\n",
    "            best = q\n",
    "            rho = i\n",
    "    \n",
    "    best = 0\n",
    "\n",
    "    for i in range(1,rho):\n",
    "        q = Q([x[0] for x in ranks[0:i]], [x[0] for x in ranks[0:rho]], 'target')\n",
    "        if q >= best:\n",
    "            best = q\n",
    "            sigma = i\n",
    "\n",
    "    return rho, sigma, best, ranks"
   ]
  },
  {
   "cell_type": "code",
   "execution_count": 380,
   "metadata": {},
   "outputs": [],
   "source": [
    "lu['target'] = lu[0] >= 6"
   ]
  },
  {
   "cell_type": "code",
   "execution_count": 383,
   "metadata": {},
   "outputs": [
    {
     "name": "stderr",
     "output_type": "stream",
     "text": [
      "100%|██████████| 332/332 [01:56<00:00,  2.86it/s]\n"
     ]
    }
   ],
   "source": [
    "out = pd.DataFrame(columns= ['rho', 'sigma', 'q', 'ranks'])\n",
    "for node in tqdm.tqdm(list(G.nodes)):\n",
    "    rho, sigma, q, ranks = Discovery(ranking(prototype(G), G))\n",
    "    out.loc[node] = [rho, sigma, q, ranks]"
   ]
  },
  {
   "cell_type": "code",
   "execution_count": 391,
   "metadata": {},
   "outputs": [
    {
     "data": {
      "text/plain": [
       "rho                                                      3\n",
       "sigma                                                    1\n",
       "q                                                   0.3849\n",
       "ranks    [(147, 0), (149, 1), (148, 1), (141, 1), (140,...\n",
       "Name: 272, dtype: object"
      ]
     },
     "execution_count": 391,
     "metadata": {},
     "output_type": "execute_result"
    }
   ],
   "source": [
    "out.sort_values(by=['q'], ascending= False).iloc[0]"
   ]
  },
  {
   "cell_type": "code",
   "execution_count": 47,
   "metadata": {},
   "outputs": [
    {
     "data": {
      "text/html": [
       "<div>\n",
       "<style scoped>\n",
       "    .dataframe tbody tr th:only-of-type {\n",
       "        vertical-align: middle;\n",
       "    }\n",
       "\n",
       "    .dataframe tbody tr th {\n",
       "        vertical-align: top;\n",
       "    }\n",
       "\n",
       "    .dataframe thead th {\n",
       "        text-align: right;\n",
       "    }\n",
       "</style>\n",
       "<table border=\"1\" class=\"dataframe\">\n",
       "  <thead>\n",
       "    <tr style=\"text-align: right;\">\n",
       "      <th></th>\n",
       "      <th>0</th>\n",
       "      <th>1</th>\n",
       "      <th>2</th>\n",
       "      <th>3</th>\n",
       "      <th>4</th>\n",
       "      <th>5</th>\n",
       "      <th>6</th>\n",
       "      <th>7</th>\n",
       "      <th>8</th>\n",
       "    </tr>\n",
       "  </thead>\n",
       "  <tbody>\n",
       "    <tr>\n",
       "      <th>0</th>\n",
       "      <td>7</td>\n",
       "      <td>0</td>\n",
       "      <td>2</td>\n",
       "      <td>5</td>\n",
       "      <td>1</td>\n",
       "      <td>0</td>\n",
       "      <td>2</td>\n",
       "      <td>0</td>\n",
       "      <td>0</td>\n",
       "    </tr>\n",
       "  </tbody>\n",
       "</table>\n",
       "</div>"
      ],
      "text/plain": [
       "   0  1  2  3  4  5  6  7  8\n",
       "0  7  0  2  5  1  0  2  0  0"
      ]
     },
     "execution_count": 47,
     "metadata": {},
     "output_type": "execute_result"
    }
   ],
   "source": [
    "pd.DataFrame([getAttributes(prototype(G))])"
   ]
  }
 ],
 "metadata": {
  "kernelspec": {
   "display_name": "Python 3",
   "language": "python",
   "name": "python3"
  },
  "language_info": {
   "codemirror_mode": {
    "name": "ipython",
    "version": 3
   },
   "file_extension": ".py",
   "mimetype": "text/x-python",
   "name": "python",
   "nbconvert_exporter": "python",
   "pygments_lexer": "ipython3",
   "version": "3.11.9"
  }
 },
 "nbformat": 4,
 "nbformat_minor": 2
}
