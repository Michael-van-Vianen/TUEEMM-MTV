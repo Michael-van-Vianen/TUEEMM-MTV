{
 "cells": [
  {
   "cell_type": "code",
   "execution_count": 1,
   "metadata": {},
   "outputs": [],
   "source": [
    "import pandas as pd\n",
    "import numpy as np\n",
    "import random as rand\n",
    "import tqdm"
   ]
  },
  {
   "cell_type": "markdown",
   "metadata": {},
   "source": [
    "# Preprocessing"
   ]
  },
  {
   "cell_type": "markdown",
   "metadata": {},
   "source": [
    "## Group & Individual attributes"
   ]
  },
  {
   "cell_type": "code",
   "execution_count": 117,
   "metadata": {},
   "outputs": [],
   "source": [
    "# Load group attributes\n",
    "group_attributes = pd.read_csv('Nashville meetup data\\meta-groups.csv')\n",
    "\n",
    "# Only consider 10 least popular groups\n",
    "considered = group_attributes['category_name'].value_counts().index[0:10].tolist()\n",
    "group_attributes = group_attributes[group_attributes['category_name'].apply(lambda x: x in considered)]"
   ]
  },
  {
   "cell_type": "code",
   "execution_count": 118,
   "metadata": {},
   "outputs": [],
   "source": [
    "# Load memberships\n",
    "member_to_group = pd.read_csv('Nashville meetup data\\member-to-group-edges.csv')\n",
    "\n",
    "# Load individual member attributes\n",
    "attributes = pd.read_csv('Nashville meetup data\\meta-members.csv')"
   ]
  },
  {
   "cell_type": "code",
   "execution_count": 119,
   "metadata": {},
   "outputs": [],
   "source": [
    "# Create membership dataframe including category_name\n",
    "member_group_category = pd.merge(member_to_group, group_attributes[['group_id', 'category_name']], how = 'left', left_on = 'group_id', right_on = 'group_id').dropna(subset=['category_name'])\n",
    "\n",
    "# Create dummies for the category names\n",
    "member_group_category_oh = member_group_category.drop('category_name', axis=1).join(pd.get_dummies(member_group_category['category_name']))\n",
    "\n",
    "# For every member, merge their attributes with the onehot encoded dummies, finding max for categories (all categories that they are members of)\n",
    "final_attributes = pd.merge(attributes, member_group_category_oh.groupby('member_id').agg('max'), how='left', right_on='member_id', left_on='member_id')\n",
    "\n",
    "# If a member has never attended any of the groups considered, fill the categories with False\n",
    "final_attributes[considered] = final_attributes[considered].fillna(False)"
   ]
  },
  {
   "cell_type": "code",
   "execution_count": 120,
   "metadata": {},
   "outputs": [],
   "source": [
    "events = group_attributes['group_id'].sample(30).tolist()"
   ]
  },
  {
   "cell_type": "markdown",
   "metadata": {},
   "source": [
    "## Edgelist"
   ]
  },
  {
   "cell_type": "code",
   "execution_count": 121,
   "metadata": {},
   "outputs": [],
   "source": [
    "attendance = pd.read_csv('Nashville meetup data/rsvps.csv')"
   ]
  },
  {
   "cell_type": "code",
   "execution_count": 122,
   "metadata": {},
   "outputs": [
    {
     "name": "stderr",
     "output_type": "stream",
     "text": [
      "100%|██████████| 19031/19031 [00:01<00:00, 16535.91it/s]\n"
     ]
    }
   ],
   "source": [
    "edges = []\n",
    "names = set()\n",
    "\n",
    "# For all different events\n",
    "for name, group in tqdm.tqdm(attendance.groupby('event_id')):\n",
    "\n",
    "    # If sampled only consider events in sampled events\n",
    "    if group['group_id'].iloc[0] in events:\n",
    "\n",
    "        # for every group member combo n, x append the tuple to list\n",
    "        for i, n in enumerate(group['member_id'].tolist()):\n",
    "            names.add(n)\n",
    "            for j, x in enumerate(group['member_id'].tolist()[i:]):\n",
    "                names.add(x)\n",
    "                if x != n:\n",
    "                    edges.append(sorted((n,x)))"
   ]
  },
  {
   "cell_type": "code",
   "execution_count": null,
   "metadata": {},
   "outputs": [],
   "source": []
  },
  {
   "cell_type": "code",
   "execution_count": 123,
   "metadata": {},
   "outputs": [],
   "source": [
    "edges = pd.DataFrame(edges, columns=['member1', 'member2'])"
   ]
  },
  {
   "cell_type": "markdown",
   "metadata": {},
   "source": [
    "# Graph"
   ]
  },
  {
   "cell_type": "code",
   "execution_count": 124,
   "metadata": {},
   "outputs": [
    {
     "name": "stderr",
     "output_type": "stream",
     "text": [
      "121760it [00:04, 29747.56it/s]\n"
     ]
    }
   ],
   "source": [
    "import networkx as nx\n",
    "\n",
    "G = nx.Graph()\n",
    "\n",
    "for index, entry in tqdm.tqdm(edges.iterrows()):\n",
    "    x, y = entry['member1'], entry['member2']\n",
    "    G.add_edge(x,y)"
   ]
  },
  {
   "cell_type": "markdown",
   "metadata": {},
   "source": [
    "# Methodology"
   ]
  },
  {
   "cell_type": "markdown",
   "metadata": {},
   "source": [
    "## Prototyping"
   ]
  },
  {
   "cell_type": "code",
   "execution_count": 125,
   "metadata": {},
   "outputs": [],
   "source": [
    "def prototype():\n",
    "    prot = rand.choice([n for n in G])\n",
    "    subgraph = nx.descendants(G, prot)\n",
    "    subgraph.add(prot)\n",
    "\n",
    "    return prot, G.subgraph(subgraph)"
   ]
  },
  {
   "cell_type": "code",
   "execution_count": 126,
   "metadata": {},
   "outputs": [
    {
     "data": {
      "text/plain": [
       "(185291120, <networkx.classes.graph.Graph at 0x2bb319e69d0>)"
      ]
     },
     "execution_count": 126,
     "metadata": {},
     "output_type": "execute_result"
    }
   ],
   "source": [
    "prototype()"
   ]
  },
  {
   "cell_type": "markdown",
   "metadata": {},
   "source": [
    "## Quality Measure"
   ]
  },
  {
   "cell_type": "code",
   "execution_count": 127,
   "metadata": {},
   "outputs": [],
   "source": [
    "lu = final_attributes.set_index('member_id')"
   ]
  },
  {
   "cell_type": "code",
   "execution_count": 130,
   "metadata": {},
   "outputs": [],
   "source": [
    "def Q(S, G, target, lu = lu):\n",
    "    S_size = len(S)\n",
    "    G_size = len(G)\n",
    "    cover = S_size / G_size\n",
    "    n_target_S = lu.loc[S][target].sum()\n",
    "\n",
    "    ser_G = pd.Series(G)\n",
    "    G = ser_G[ser_G.isin(lu.index)].tolist()\n",
    "    \n",
    "    n_target_G = lu.loc[G][target].sum()\n",
    "\n",
    "    WRAcc = (cover**0.5)* ((n_target_S/S_size) - (n_target_G/G_size))\n",
    "\n",
    "    return abs(WRAcc)\n",
    "\n",
    "    "
   ]
  },
  {
   "cell_type": "markdown",
   "metadata": {},
   "source": [
    "## Testing"
   ]
  },
  {
   "cell_type": "code",
   "execution_count": 131,
   "metadata": {},
   "outputs": [
    {
     "name": "stdout",
     "output_type": "stream",
     "text": [
      "Max WRAcc found for prototype 111592472 was 0.05643663649634879 with size 51\n",
      "Max WRAcc found for prototype 195335106 was 0.07868212133867035 with size 54\n",
      "Max WRAcc found for prototype 12125165 was 0.07868212133867035 with size 54\n",
      "Max WRAcc found for prototype 238768583 was 0.05609086418646803 with size 54\n",
      "Max WRAcc found for prototype 201497860 was 0.05889863471824174 with size 54\n",
      "Max WRAcc found for prototype 11151756 was 0.05609086418646803 with size 54\n",
      "Max WRAcc found for prototype 227037978 was 0.07868212133867035 with size 54\n",
      "Max WRAcc found for prototype 186165686 was 0.07868212133867035 with size 54\n",
      "Max WRAcc found for prototype 201154548 was 0.07868212133867035 with size 54\n",
      "Max WRAcc found for prototype 223909273 was 0.061706405250015466 with size 54\n",
      "Max WRAcc found for prototype 48232882 was 0.07868212133867035 with size 54\n",
      "Max WRAcc found for prototype 11696972 was 0.05902772761625433 with size 54\n",
      "Max WRAcc found for prototype 97825272 was 0.05609086418646803 with size 54\n",
      "Max WRAcc found for prototype 178090242 was 0.07868212133867035 with size 54\n",
      "Max WRAcc found for prototype 194393775 was 0.026109247056489017 with size 14\n",
      "Max WRAcc found for prototype 235966422 was 0.07868212133867035 with size 54\n",
      "Max WRAcc found for prototype 75681792 was 0.05609086418646803 with size 54\n",
      "Max WRAcc found for prototype 228387404 was 0.05889863471824174 with size 54\n",
      "Max WRAcc found for prototype 184547023 was 0.07868212133867035 with size 54\n",
      "Max WRAcc found for prototype 32172422 was 0.07868212133867035 with size 54\n"
     ]
    }
   ],
   "source": [
    "for _ in range(20):\n",
    "    p, s = prototype()\n",
    "\n",
    "    distances = nx.resistance_distance(s, p)\n",
    "    \n",
    "    distances = dict(sorted(distances.items(), key=lambda item: item[1]))\n",
    "    WRAccs = []\n",
    "    for x in range(50):\n",
    "        SG = list(distances.keys())[0:x+5]\n",
    "        RG = list(G.nodes)\n",
    "        WRAccs.append(Q(SG,RG,'Tech'))\n",
    "    print(f'Max WRAcc found for prototype {p} was {max(WRAccs)} with size {WRAccs.index(max(WRAccs)) + 5}')"
   ]
  },
  {
   "cell_type": "code",
   "execution_count": 97,
   "metadata": {},
   "outputs": [
    {
     "data": {
      "text/html": [
       "<div>\n",
       "<style scoped>\n",
       "    .dataframe tbody tr th:only-of-type {\n",
       "        vertical-align: middle;\n",
       "    }\n",
       "\n",
       "    .dataframe tbody tr th {\n",
       "        vertical-align: top;\n",
       "    }\n",
       "\n",
       "    .dataframe thead th {\n",
       "        text-align: right;\n",
       "    }\n",
       "</style>\n",
       "<table border=\"1\" class=\"dataframe\">\n",
       "  <thead>\n",
       "    <tr style=\"text-align: right;\">\n",
       "      <th></th>\n",
       "      <th>name</th>\n",
       "      <th>hometown</th>\n",
       "      <th>city</th>\n",
       "      <th>state</th>\n",
       "      <th>lat</th>\n",
       "      <th>lon</th>\n",
       "      <th>group_id</th>\n",
       "      <th>weight</th>\n",
       "      <th>Career &amp; Business</th>\n",
       "      <th>Community &amp; Environment</th>\n",
       "      <th>Games</th>\n",
       "      <th>Health &amp; Wellbeing</th>\n",
       "      <th>Music</th>\n",
       "      <th>New Age &amp; Spirituality</th>\n",
       "      <th>Outdoors &amp; Adventure</th>\n",
       "      <th>Socializing</th>\n",
       "      <th>Sports &amp; Recreation</th>\n",
       "      <th>Tech</th>\n",
       "    </tr>\n",
       "    <tr>\n",
       "      <th>member_id</th>\n",
       "      <th></th>\n",
       "      <th></th>\n",
       "      <th></th>\n",
       "      <th></th>\n",
       "      <th></th>\n",
       "      <th></th>\n",
       "      <th></th>\n",
       "      <th></th>\n",
       "      <th></th>\n",
       "      <th></th>\n",
       "      <th></th>\n",
       "      <th></th>\n",
       "      <th></th>\n",
       "      <th></th>\n",
       "      <th></th>\n",
       "      <th></th>\n",
       "      <th></th>\n",
       "      <th></th>\n",
       "    </tr>\n",
       "  </thead>\n",
       "  <tbody>\n",
       "    <tr>\n",
       "      <th>2069</th>\n",
       "      <td>Wesley Duffee-Braun</td>\n",
       "      <td>Brentwood</td>\n",
       "      <td>Brentwood</td>\n",
       "      <td>TN</td>\n",
       "      <td>36.00</td>\n",
       "      <td>-86.79</td>\n",
       "      <td>19277993.0</td>\n",
       "      <td>4.0</td>\n",
       "      <td>False</td>\n",
       "      <td>False</td>\n",
       "      <td>False</td>\n",
       "      <td>False</td>\n",
       "      <td>False</td>\n",
       "      <td>False</td>\n",
       "      <td>False</td>\n",
       "      <td>False</td>\n",
       "      <td>False</td>\n",
       "      <td>True</td>\n",
       "    </tr>\n",
       "    <tr>\n",
       "      <th>8386</th>\n",
       "      <td>Tim</td>\n",
       "      <td>Nashville</td>\n",
       "      <td>Nashville</td>\n",
       "      <td>TN</td>\n",
       "      <td>36.07</td>\n",
       "      <td>-86.78</td>\n",
       "      <td>19654655.0</td>\n",
       "      <td>8.0</td>\n",
       "      <td>False</td>\n",
       "      <td>False</td>\n",
       "      <td>False</td>\n",
       "      <td>False</td>\n",
       "      <td>True</td>\n",
       "      <td>False</td>\n",
       "      <td>True</td>\n",
       "      <td>False</td>\n",
       "      <td>False</td>\n",
       "      <td>True</td>\n",
       "    </tr>\n",
       "    <tr>\n",
       "      <th>9205</th>\n",
       "      <td>Brenda</td>\n",
       "      <td>Brentwood</td>\n",
       "      <td>Brentwood</td>\n",
       "      <td>TN</td>\n",
       "      <td>36.00</td>\n",
       "      <td>-86.79</td>\n",
       "      <td>1585196.0</td>\n",
       "      <td>20.0</td>\n",
       "      <td>False</td>\n",
       "      <td>False</td>\n",
       "      <td>False</td>\n",
       "      <td>False</td>\n",
       "      <td>False</td>\n",
       "      <td>False</td>\n",
       "      <td>True</td>\n",
       "      <td>False</td>\n",
       "      <td>False</td>\n",
       "      <td>False</td>\n",
       "    </tr>\n",
       "    <tr>\n",
       "      <th>17903</th>\n",
       "      <td>Steve</td>\n",
       "      <td>NaN</td>\n",
       "      <td>Nashville</td>\n",
       "      <td>TN</td>\n",
       "      <td>36.13</td>\n",
       "      <td>-86.80</td>\n",
       "      <td>7130232.0</td>\n",
       "      <td>1.0</td>\n",
       "      <td>False</td>\n",
       "      <td>False</td>\n",
       "      <td>False</td>\n",
       "      <td>False</td>\n",
       "      <td>False</td>\n",
       "      <td>False</td>\n",
       "      <td>False</td>\n",
       "      <td>False</td>\n",
       "      <td>False</td>\n",
       "      <td>True</td>\n",
       "    </tr>\n",
       "    <tr>\n",
       "      <th>20418</th>\n",
       "      <td>Andrea Reynolds</td>\n",
       "      <td>Huntington, WV</td>\n",
       "      <td>Nashville</td>\n",
       "      <td>TN</td>\n",
       "      <td>36.17</td>\n",
       "      <td>-86.72</td>\n",
       "      <td>NaN</td>\n",
       "      <td>NaN</td>\n",
       "      <td>False</td>\n",
       "      <td>False</td>\n",
       "      <td>False</td>\n",
       "      <td>False</td>\n",
       "      <td>False</td>\n",
       "      <td>False</td>\n",
       "      <td>False</td>\n",
       "      <td>False</td>\n",
       "      <td>False</td>\n",
       "      <td>False</td>\n",
       "    </tr>\n",
       "    <tr>\n",
       "      <th>...</th>\n",
       "      <td>...</td>\n",
       "      <td>...</td>\n",
       "      <td>...</td>\n",
       "      <td>...</td>\n",
       "      <td>...</td>\n",
       "      <td>...</td>\n",
       "      <td>...</td>\n",
       "      <td>...</td>\n",
       "      <td>...</td>\n",
       "      <td>...</td>\n",
       "      <td>...</td>\n",
       "      <td>...</td>\n",
       "      <td>...</td>\n",
       "      <td>...</td>\n",
       "      <td>...</td>\n",
       "      <td>...</td>\n",
       "      <td>...</td>\n",
       "      <td>...</td>\n",
       "    </tr>\n",
       "    <tr>\n",
       "      <th>239513469</th>\n",
       "      <td>Madison Ray</td>\n",
       "      <td>NaN</td>\n",
       "      <td>Nashville</td>\n",
       "      <td>TN</td>\n",
       "      <td>36.09</td>\n",
       "      <td>-86.82</td>\n",
       "      <td>19997487.0</td>\n",
       "      <td>1.0</td>\n",
       "      <td>False</td>\n",
       "      <td>False</td>\n",
       "      <td>False</td>\n",
       "      <td>False</td>\n",
       "      <td>False</td>\n",
       "      <td>False</td>\n",
       "      <td>False</td>\n",
       "      <td>False</td>\n",
       "      <td>False</td>\n",
       "      <td>True</td>\n",
       "    </tr>\n",
       "    <tr>\n",
       "      <th>239515413</th>\n",
       "      <td>Jay Hatchett</td>\n",
       "      <td>NaN</td>\n",
       "      <td>La Vergne</td>\n",
       "      <td>TN</td>\n",
       "      <td>36.00</td>\n",
       "      <td>-86.57</td>\n",
       "      <td>19822479.0</td>\n",
       "      <td>1.0</td>\n",
       "      <td>True</td>\n",
       "      <td>False</td>\n",
       "      <td>False</td>\n",
       "      <td>False</td>\n",
       "      <td>False</td>\n",
       "      <td>False</td>\n",
       "      <td>False</td>\n",
       "      <td>False</td>\n",
       "      <td>False</td>\n",
       "      <td>False</td>\n",
       "    </tr>\n",
       "    <tr>\n",
       "      <th>239519977</th>\n",
       "      <td>Lukasz Bielawski</td>\n",
       "      <td>NaN</td>\n",
       "      <td>Nashville</td>\n",
       "      <td>TN</td>\n",
       "      <td>36.17</td>\n",
       "      <td>-86.78</td>\n",
       "      <td>6335372.0</td>\n",
       "      <td>1.0</td>\n",
       "      <td>False</td>\n",
       "      <td>False</td>\n",
       "      <td>False</td>\n",
       "      <td>False</td>\n",
       "      <td>False</td>\n",
       "      <td>False</td>\n",
       "      <td>False</td>\n",
       "      <td>False</td>\n",
       "      <td>True</td>\n",
       "      <td>False</td>\n",
       "    </tr>\n",
       "    <tr>\n",
       "      <th>239520184</th>\n",
       "      <td>Terri Taylor</td>\n",
       "      <td>NaN</td>\n",
       "      <td>Nashville</td>\n",
       "      <td>TN</td>\n",
       "      <td>36.14</td>\n",
       "      <td>-86.74</td>\n",
       "      <td>1585196.0</td>\n",
       "      <td>1.0</td>\n",
       "      <td>False</td>\n",
       "      <td>False</td>\n",
       "      <td>False</td>\n",
       "      <td>False</td>\n",
       "      <td>False</td>\n",
       "      <td>False</td>\n",
       "      <td>True</td>\n",
       "      <td>False</td>\n",
       "      <td>False</td>\n",
       "      <td>False</td>\n",
       "    </tr>\n",
       "    <tr>\n",
       "      <th>239558741</th>\n",
       "      <td>Michelle</td>\n",
       "      <td>NaN</td>\n",
       "      <td>Brentwood</td>\n",
       "      <td>TN</td>\n",
       "      <td>36.00</td>\n",
       "      <td>-86.79</td>\n",
       "      <td>18562307.0</td>\n",
       "      <td>1.0</td>\n",
       "      <td>True</td>\n",
       "      <td>False</td>\n",
       "      <td>False</td>\n",
       "      <td>False</td>\n",
       "      <td>False</td>\n",
       "      <td>False</td>\n",
       "      <td>False</td>\n",
       "      <td>False</td>\n",
       "      <td>False</td>\n",
       "      <td>False</td>\n",
       "    </tr>\n",
       "  </tbody>\n",
       "</table>\n",
       "<p>24591 rows × 18 columns</p>\n",
       "</div>"
      ],
      "text/plain": [
       "                          name        hometown       city state    lat    lon  \\\n",
       "member_id                                                                       \n",
       "2069       Wesley Duffee-Braun       Brentwood  Brentwood    TN  36.00 -86.79   \n",
       "8386                       Tim       Nashville  Nashville    TN  36.07 -86.78   \n",
       "9205                    Brenda       Brentwood  Brentwood    TN  36.00 -86.79   \n",
       "17903                    Steve             NaN  Nashville    TN  36.13 -86.80   \n",
       "20418          Andrea Reynolds  Huntington, WV  Nashville    TN  36.17 -86.72   \n",
       "...                        ...             ...        ...   ...    ...    ...   \n",
       "239513469          Madison Ray             NaN  Nashville    TN  36.09 -86.82   \n",
       "239515413         Jay Hatchett             NaN  La Vergne    TN  36.00 -86.57   \n",
       "239519977     Lukasz Bielawski             NaN  Nashville    TN  36.17 -86.78   \n",
       "239520184         Terri Taylor             NaN  Nashville    TN  36.14 -86.74   \n",
       "239558741             Michelle             NaN  Brentwood    TN  36.00 -86.79   \n",
       "\n",
       "             group_id  weight  Career & Business  Community & Environment  \\\n",
       "member_id                                                                   \n",
       "2069       19277993.0     4.0              False                    False   \n",
       "8386       19654655.0     8.0              False                    False   \n",
       "9205        1585196.0    20.0              False                    False   \n",
       "17903       7130232.0     1.0              False                    False   \n",
       "20418             NaN     NaN              False                    False   \n",
       "...               ...     ...                ...                      ...   \n",
       "239513469  19997487.0     1.0              False                    False   \n",
       "239515413  19822479.0     1.0               True                    False   \n",
       "239519977   6335372.0     1.0              False                    False   \n",
       "239520184   1585196.0     1.0              False                    False   \n",
       "239558741  18562307.0     1.0               True                    False   \n",
       "\n",
       "           Games  Health & Wellbeing  Music  New Age & Spirituality  \\\n",
       "member_id                                                             \n",
       "2069       False               False  False                   False   \n",
       "8386       False               False   True                   False   \n",
       "9205       False               False  False                   False   \n",
       "17903      False               False  False                   False   \n",
       "20418      False               False  False                   False   \n",
       "...          ...                 ...    ...                     ...   \n",
       "239513469  False               False  False                   False   \n",
       "239515413  False               False  False                   False   \n",
       "239519977  False               False  False                   False   \n",
       "239520184  False               False  False                   False   \n",
       "239558741  False               False  False                   False   \n",
       "\n",
       "           Outdoors & Adventure  Socializing  Sports & Recreation   Tech  \n",
       "member_id                                                                 \n",
       "2069                      False        False                False   True  \n",
       "8386                       True        False                False   True  \n",
       "9205                       True        False                False  False  \n",
       "17903                     False        False                False   True  \n",
       "20418                     False        False                False  False  \n",
       "...                         ...          ...                  ...    ...  \n",
       "239513469                 False        False                False   True  \n",
       "239515413                 False        False                False  False  \n",
       "239519977                 False        False                 True  False  \n",
       "239520184                  True        False                False  False  \n",
       "239558741                 False        False                False  False  \n",
       "\n",
       "[24591 rows x 18 columns]"
      ]
     },
     "execution_count": 97,
     "metadata": {},
     "output_type": "execute_result"
    }
   ],
   "source": [
    "lu"
   ]
  }
 ],
 "metadata": {
  "kernelspec": {
   "display_name": "Python 3",
   "language": "python",
   "name": "python3"
  },
  "language_info": {
   "codemirror_mode": {
    "name": "ipython",
    "version": 3
   },
   "file_extension": ".py",
   "mimetype": "text/x-python",
   "name": "python",
   "nbconvert_exporter": "python",
   "pygments_lexer": "ipython3",
   "version": "3.11.9"
  }
 },
 "nbformat": 4,
 "nbformat_minor": 2
}
