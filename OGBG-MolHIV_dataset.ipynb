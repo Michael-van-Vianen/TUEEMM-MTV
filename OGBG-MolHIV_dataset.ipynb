{
 "cells": [
  {
   "cell_type": "code",
   "metadata": {
    "ExecuteTime": {
     "end_time": "2025-02-24T11:43:07.025905Z",
     "start_time": "2025-02-24T11:43:05.579235Z"
    }
   },
   "source": [
    "import pandas as pd\n",
    "import networkx as nx\n",
    "import pickle as pkl\n",
    "import matplotlib.pyplot as plt\n",
    "from methods import find_groups"
   ],
   "outputs": [],
   "execution_count": 1
  },
  {
   "cell_type": "markdown",
   "metadata": {},
   "source": [
    "# First create a nx.Graph() object here. This example uses the graph from the Chemistry dataset. Replace this code to generate your own."
   ]
  },
  {
   "cell_type": "code",
   "metadata": {
    "ExecuteTime": {
     "end_time": "2025-02-24T11:43:08.341932Z",
     "start_time": "2025-02-24T11:43:08.336014Z"
    }
   },
   "source": [
    "\"\"\"Protein numbers for:\n",
    "-> `OGBG-MolHIV_visualization.ipynb`.\n",
    "182987\n",
    "135257\n",
    "200289\n",
    "104795\n",
    "\n",
    "-> Default: 349519\n",
    "\"\"\"\n",
    "\n",
    "PROTEIN_NR_MOLPCBA = 104795\n",
    "\n",
    "pkl_filename = f\"graph_{PROTEIN_NR_MOLPCBA}_OGBG-MolHIV.pkl\"\n",
    "\n",
    "with open(pkl_filename, 'rb') as pkl_input:\n",
    "    graph = pkl.load(pkl_input)\n",
    "\n",
    "edge_index = graph['edge_index']\n",
    "num_nodes = graph['num_nodes']\n",
    "\n",
    "G = nx.Graph()\n",
    "\n",
    "G.add_nodes_from(range(num_nodes))\n",
    "\n",
    "edges = list(zip(edge_index[0], edge_index[1]))\n",
    "G.add_edges_from(edges)"
   ],
   "outputs": [],
   "execution_count": 2
  },
  {
   "cell_type": "markdown",
   "metadata": {},
   "source": [
    "# Create a LU table\n",
    "Create a look up table with numerical columns that represent attributes, and a column 'target' with the target variable (binary). Please use the names of the nodes in the graph as index for the lookup table."
   ]
  },
  {
   "cell_type": "code",
   "metadata": {
    "ExecuteTime": {
     "end_time": "2025-02-24T11:43:09.578600Z",
     "start_time": "2025-02-24T11:43:09.574517Z"
    }
   },
   "source": [
    "attributes = graph['node_feat']\n",
    "lu = pd.DataFrame(attributes)\n",
    "lu['target'] = lu[0] >= 6"
   ],
   "outputs": [],
   "execution_count": 3
  },
  {
   "cell_type": "code",
   "metadata": {
    "ExecuteTime": {
     "end_time": "2025-02-24T11:44:09.137256Z",
     "start_time": "2025-02-24T11:43:10.569171Z"
    }
   },
   "source": "result = find_groups(G, 20, lu, ablation_mode=False, use_multiprocessing=False)",
   "outputs": [
    {
     "name": "stderr",
     "output_type": "stream",
     "text": [
      "100%|██████████| 266/266 [00:58<00:00,  4.56it/s]\n"
     ]
    }
   ],
   "execution_count": 4
  },
  {
   "cell_type": "code",
   "metadata": {
    "ExecuteTime": {
     "end_time": "2025-02-24T11:44:10.555082Z",
     "start_time": "2025-02-24T11:44:10.251848Z"
    }
   },
   "source": [
    "result"
   ],
   "outputs": [
    {
     "data": {
      "text/plain": [
       "      rho  sigma         q                                              ranks  \\\n",
       "node                                                                            \n",
       "89     11      5  0.232905  [(89, True), (87, False), (90, False), (94, Fa...   \n",
       "56     16     10  0.207524  [(56, True), (57, True), (55, False), (58, Fal...   \n",
       "113    11      7  0.207201  [(113, True), (111, False), (114, False), (117...   \n",
       "199    11      7  0.207201  [(199, True), (197, False), (200, False), (201...   \n",
       "219    11      7  0.207201  [(219, True), (217, False), (220, False), (223...   \n",
       "167    21     12  0.206981  [(167, False), (169, True), (168, True), (162,...   \n",
       "55      5      3  0.206559  [(55, False), (54, False), (56, True), (96, Tr...   \n",
       "29      5      3  0.206559  [(29, True), (30, False), (28, False), (31, Tr...   \n",
       "140     9      4  0.203704  [(140, True), (138, False), (141, False), (142...   \n",
       "96     15      5  0.192450  [(96, True), (94, False), (54, False), (52, Fa...   \n",
       "201    20     11  0.168550  [(201, False), (203, True), (202, True), (200,...   \n",
       "105    23     10  0.157678  [(105, True), (103, False), (106, False), (111...   \n",
       "165    11      6  0.156662  [(165, True), (164, False), (166, True), (163,...   \n",
       "174    11      6  0.156662  [(174, True), (172, False), (173, True), (171,...   \n",
       "206    11      6  0.156662  [(206, False), (207, True), (208, True), (205,...   \n",
       "53     15      9  0.154919  [(53, True), (52, False), (51, True), (54, Fal...   \n",
       "101     5      3  0.154919  [(101, False), (100, False), (46, False), (102...   \n",
       "152    22     10  0.153227  [(152, True), (150, False), (153, False), (159...   \n",
       "22     22     10  0.153227  [(22, True), (23, False), (17, False), (15, Fa...   \n",
       "187    31      5  0.150280  [(187, True), (186, False), (188, True), (178,...   \n",
       "\n",
       "                                              reference  \\\n",
       "node                                                      \n",
       "89         [89, 87, 90, 94, 85, 88, 91, 84, 96, 95, 93]   \n",
       "56    [56, 57, 55, 58, 54, 96, 52, 59, 67, 94, 53, 5...   \n",
       "113   [113, 111, 114, 117, 112, 115, 106, 105, 119, ...   \n",
       "199   [199, 197, 200, 201, 198, 254, 196, 203, 192, ...   \n",
       "219   [219, 217, 220, 223, 218, 216, 221, 215, 225, ...   \n",
       "167   [167, 169, 168, 162, 161, 163, 170, 159, 164, ...   \n",
       "55                                 [55, 54, 56, 96, 57]   \n",
       "29                                 [29, 30, 28, 31, 32]   \n",
       "140       [140, 138, 141, 142, 139, 137, 136, 144, 143]   \n",
       "96    [96, 94, 54, 52, 55, 95, 90, 89, 51, 53, 56, 9...   \n",
       "201   [201, 203, 202, 200, 199, 204, 254, 197, 209, ...   \n",
       "105   [105, 103, 106, 111, 104, 107, 4, 5, 113, 112,...   \n",
       "165   [165, 164, 166, 163, 162, 167, 161, 168, 159, ...   \n",
       "174   [174, 172, 173, 171, 170, 175, 169, 176, 167, ...   \n",
       "206   [206, 207, 208, 205, 204, 209, 203, 201, 211, ...   \n",
       "53    [53, 52, 51, 54, 96, 50, 55, 48, 94, 56, 97, 4...   \n",
       "101                             [101, 100, 46, 102, 44]   \n",
       "152   [152, 150, 153, 159, 151, 154, 149, 148, 161, ...   \n",
       "22    [22, 23, 17, 15, 24, 18, 25, 14, 33, 16, 19, 2...   \n",
       "187   [187, 186, 188, 178, 177, 179, 189, 175, 190, ...   \n",
       "\n",
       "                                               subgroup  \n",
       "node                                                     \n",
       "89                                 [89, 87, 90, 94, 85]  \n",
       "56             [56, 57, 55, 58, 54, 96, 52, 59, 67, 94]  \n",
       "113                 [113, 111, 114, 117, 112, 115, 106]  \n",
       "199                 [199, 197, 200, 201, 198, 254, 196]  \n",
       "219                 [219, 217, 220, 223, 218, 216, 221]  \n",
       "167   [167, 169, 168, 162, 161, 163, 170, 159, 164, ...  \n",
       "55                                         [55, 54, 56]  \n",
       "29                                         [29, 30, 28]  \n",
       "140                                [140, 138, 141, 142]  \n",
       "96                                 [96, 94, 54, 52, 55]  \n",
       "201   [201, 203, 202, 200, 199, 204, 254, 197, 209, ...  \n",
       "105      [105, 103, 106, 111, 104, 107, 4, 5, 113, 112]  \n",
       "165                      [165, 164, 166, 163, 162, 167]  \n",
       "174                      [174, 172, 173, 171, 170, 175]  \n",
       "206                      [206, 207, 208, 205, 204, 209]  \n",
       "53                 [53, 52, 51, 54, 96, 50, 55, 48, 94]  \n",
       "101                                      [101, 100, 46]  \n",
       "152   [152, 150, 153, 159, 151, 154, 149, 148, 161, ...  \n",
       "22             [22, 23, 17, 15, 24, 18, 25, 14, 33, 16]  \n",
       "187                           [187, 186, 188, 178, 177]  "
      ],
      "text/html": [
       "<div>\n",
       "<style scoped>\n",
       "    .dataframe tbody tr th:only-of-type {\n",
       "        vertical-align: middle;\n",
       "    }\n",
       "\n",
       "    .dataframe tbody tr th {\n",
       "        vertical-align: top;\n",
       "    }\n",
       "\n",
       "    .dataframe thead th {\n",
       "        text-align: right;\n",
       "    }\n",
       "</style>\n",
       "<table border=\"1\" class=\"dataframe\">\n",
       "  <thead>\n",
       "    <tr style=\"text-align: right;\">\n",
       "      <th></th>\n",
       "      <th>rho</th>\n",
       "      <th>sigma</th>\n",
       "      <th>q</th>\n",
       "      <th>ranks</th>\n",
       "      <th>reference</th>\n",
       "      <th>subgroup</th>\n",
       "    </tr>\n",
       "    <tr>\n",
       "      <th>node</th>\n",
       "      <th></th>\n",
       "      <th></th>\n",
       "      <th></th>\n",
       "      <th></th>\n",
       "      <th></th>\n",
       "      <th></th>\n",
       "    </tr>\n",
       "  </thead>\n",
       "  <tbody>\n",
       "    <tr>\n",
       "      <th>89</th>\n",
       "      <td>11</td>\n",
       "      <td>5</td>\n",
       "      <td>0.232905</td>\n",
       "      <td>[(89, True), (87, False), (90, False), (94, Fa...</td>\n",
       "      <td>[89, 87, 90, 94, 85, 88, 91, 84, 96, 95, 93]</td>\n",
       "      <td>[89, 87, 90, 94, 85]</td>\n",
       "    </tr>\n",
       "    <tr>\n",
       "      <th>56</th>\n",
       "      <td>16</td>\n",
       "      <td>10</td>\n",
       "      <td>0.207524</td>\n",
       "      <td>[(56, True), (57, True), (55, False), (58, Fal...</td>\n",
       "      <td>[56, 57, 55, 58, 54, 96, 52, 59, 67, 94, 53, 5...</td>\n",
       "      <td>[56, 57, 55, 58, 54, 96, 52, 59, 67, 94]</td>\n",
       "    </tr>\n",
       "    <tr>\n",
       "      <th>113</th>\n",
       "      <td>11</td>\n",
       "      <td>7</td>\n",
       "      <td>0.207201</td>\n",
       "      <td>[(113, True), (111, False), (114, False), (117...</td>\n",
       "      <td>[113, 111, 114, 117, 112, 115, 106, 105, 119, ...</td>\n",
       "      <td>[113, 111, 114, 117, 112, 115, 106]</td>\n",
       "    </tr>\n",
       "    <tr>\n",
       "      <th>199</th>\n",
       "      <td>11</td>\n",
       "      <td>7</td>\n",
       "      <td>0.207201</td>\n",
       "      <td>[(199, True), (197, False), (200, False), (201...</td>\n",
       "      <td>[199, 197, 200, 201, 198, 254, 196, 203, 192, ...</td>\n",
       "      <td>[199, 197, 200, 201, 198, 254, 196]</td>\n",
       "    </tr>\n",
       "    <tr>\n",
       "      <th>219</th>\n",
       "      <td>11</td>\n",
       "      <td>7</td>\n",
       "      <td>0.207201</td>\n",
       "      <td>[(219, True), (217, False), (220, False), (223...</td>\n",
       "      <td>[219, 217, 220, 223, 218, 216, 221, 215, 225, ...</td>\n",
       "      <td>[219, 217, 220, 223, 218, 216, 221]</td>\n",
       "    </tr>\n",
       "    <tr>\n",
       "      <th>167</th>\n",
       "      <td>21</td>\n",
       "      <td>12</td>\n",
       "      <td>0.206981</td>\n",
       "      <td>[(167, False), (169, True), (168, True), (162,...</td>\n",
       "      <td>[167, 169, 168, 162, 161, 163, 170, 159, 164, ...</td>\n",
       "      <td>[167, 169, 168, 162, 161, 163, 170, 159, 164, ...</td>\n",
       "    </tr>\n",
       "    <tr>\n",
       "      <th>55</th>\n",
       "      <td>5</td>\n",
       "      <td>3</td>\n",
       "      <td>0.206559</td>\n",
       "      <td>[(55, False), (54, False), (56, True), (96, Tr...</td>\n",
       "      <td>[55, 54, 56, 96, 57]</td>\n",
       "      <td>[55, 54, 56]</td>\n",
       "    </tr>\n",
       "    <tr>\n",
       "      <th>29</th>\n",
       "      <td>5</td>\n",
       "      <td>3</td>\n",
       "      <td>0.206559</td>\n",
       "      <td>[(29, True), (30, False), (28, False), (31, Tr...</td>\n",
       "      <td>[29, 30, 28, 31, 32]</td>\n",
       "      <td>[29, 30, 28]</td>\n",
       "    </tr>\n",
       "    <tr>\n",
       "      <th>140</th>\n",
       "      <td>9</td>\n",
       "      <td>4</td>\n",
       "      <td>0.203704</td>\n",
       "      <td>[(140, True), (138, False), (141, False), (142...</td>\n",
       "      <td>[140, 138, 141, 142, 139, 137, 136, 144, 143]</td>\n",
       "      <td>[140, 138, 141, 142]</td>\n",
       "    </tr>\n",
       "    <tr>\n",
       "      <th>96</th>\n",
       "      <td>15</td>\n",
       "      <td>5</td>\n",
       "      <td>0.192450</td>\n",
       "      <td>[(96, True), (94, False), (54, False), (52, Fa...</td>\n",
       "      <td>[96, 94, 54, 52, 55, 95, 90, 89, 51, 53, 56, 9...</td>\n",
       "      <td>[96, 94, 54, 52, 55]</td>\n",
       "    </tr>\n",
       "    <tr>\n",
       "      <th>201</th>\n",
       "      <td>20</td>\n",
       "      <td>11</td>\n",
       "      <td>0.168550</td>\n",
       "      <td>[(201, False), (203, True), (202, True), (200,...</td>\n",
       "      <td>[201, 203, 202, 200, 199, 204, 254, 197, 209, ...</td>\n",
       "      <td>[201, 203, 202, 200, 199, 204, 254, 197, 209, ...</td>\n",
       "    </tr>\n",
       "    <tr>\n",
       "      <th>105</th>\n",
       "      <td>23</td>\n",
       "      <td>10</td>\n",
       "      <td>0.157678</td>\n",
       "      <td>[(105, True), (103, False), (106, False), (111...</td>\n",
       "      <td>[105, 103, 106, 111, 104, 107, 4, 5, 113, 112,...</td>\n",
       "      <td>[105, 103, 106, 111, 104, 107, 4, 5, 113, 112]</td>\n",
       "    </tr>\n",
       "    <tr>\n",
       "      <th>165</th>\n",
       "      <td>11</td>\n",
       "      <td>6</td>\n",
       "      <td>0.156662</td>\n",
       "      <td>[(165, True), (164, False), (166, True), (163,...</td>\n",
       "      <td>[165, 164, 166, 163, 162, 167, 161, 168, 159, ...</td>\n",
       "      <td>[165, 164, 166, 163, 162, 167]</td>\n",
       "    </tr>\n",
       "    <tr>\n",
       "      <th>174</th>\n",
       "      <td>11</td>\n",
       "      <td>6</td>\n",
       "      <td>0.156662</td>\n",
       "      <td>[(174, True), (172, False), (173, True), (171,...</td>\n",
       "      <td>[174, 172, 173, 171, 170, 175, 169, 176, 167, ...</td>\n",
       "      <td>[174, 172, 173, 171, 170, 175]</td>\n",
       "    </tr>\n",
       "    <tr>\n",
       "      <th>206</th>\n",
       "      <td>11</td>\n",
       "      <td>6</td>\n",
       "      <td>0.156662</td>\n",
       "      <td>[(206, False), (207, True), (208, True), (205,...</td>\n",
       "      <td>[206, 207, 208, 205, 204, 209, 203, 201, 211, ...</td>\n",
       "      <td>[206, 207, 208, 205, 204, 209]</td>\n",
       "    </tr>\n",
       "    <tr>\n",
       "      <th>53</th>\n",
       "      <td>15</td>\n",
       "      <td>9</td>\n",
       "      <td>0.154919</td>\n",
       "      <td>[(53, True), (52, False), (51, True), (54, Fal...</td>\n",
       "      <td>[53, 52, 51, 54, 96, 50, 55, 48, 94, 56, 97, 4...</td>\n",
       "      <td>[53, 52, 51, 54, 96, 50, 55, 48, 94]</td>\n",
       "    </tr>\n",
       "    <tr>\n",
       "      <th>101</th>\n",
       "      <td>5</td>\n",
       "      <td>3</td>\n",
       "      <td>0.154919</td>\n",
       "      <td>[(101, False), (100, False), (46, False), (102...</td>\n",
       "      <td>[101, 100, 46, 102, 44]</td>\n",
       "      <td>[101, 100, 46]</td>\n",
       "    </tr>\n",
       "    <tr>\n",
       "      <th>152</th>\n",
       "      <td>22</td>\n",
       "      <td>10</td>\n",
       "      <td>0.153227</td>\n",
       "      <td>[(152, True), (150, False), (153, False), (159...</td>\n",
       "      <td>[152, 150, 153, 159, 151, 154, 149, 148, 161, ...</td>\n",
       "      <td>[152, 150, 153, 159, 151, 154, 149, 148, 161, ...</td>\n",
       "    </tr>\n",
       "    <tr>\n",
       "      <th>22</th>\n",
       "      <td>22</td>\n",
       "      <td>10</td>\n",
       "      <td>0.153227</td>\n",
       "      <td>[(22, True), (23, False), (17, False), (15, Fa...</td>\n",
       "      <td>[22, 23, 17, 15, 24, 18, 25, 14, 33, 16, 19, 2...</td>\n",
       "      <td>[22, 23, 17, 15, 24, 18, 25, 14, 33, 16]</td>\n",
       "    </tr>\n",
       "    <tr>\n",
       "      <th>187</th>\n",
       "      <td>31</td>\n",
       "      <td>5</td>\n",
       "      <td>0.150280</td>\n",
       "      <td>[(187, True), (186, False), (188, True), (178,...</td>\n",
       "      <td>[187, 186, 188, 178, 177, 179, 189, 175, 190, ...</td>\n",
       "      <td>[187, 186, 188, 178, 177]</td>\n",
       "    </tr>\n",
       "  </tbody>\n",
       "</table>\n",
       "</div>"
      ]
     },
     "execution_count": 5,
     "metadata": {},
     "output_type": "execute_result"
    }
   ],
   "execution_count": 5
  },
  {
   "cell_type": "code",
   "metadata": {
    "ExecuteTime": {
     "end_time": "2025-02-24T11:44:11.956701Z",
     "start_time": "2025-02-24T11:44:11.854821Z"
    }
   },
   "source": [
    "output = pd.DataFrame()\n",
    "output['Prototype'] = result.index\n",
    "output.index = result.index\n",
    "output['Rho'] = result['rho']\n",
    "output['Sigma'] = result['sigma']\n",
    "output['Q'] = result['q']\n",
    "output['Ranks'] = result['ranks']\n",
    "output.index.name = None\n",
    "output[0:5].to_latex()"
   ],
   "outputs": [
    {
     "data": {
      "text/plain": [
       "'\\\\begin{tabular}{lrrrrl}\\n\\\\toprule\\n & Prototype & Rho & Sigma & Q & Ranks \\\\\\\\\\n\\\\midrule\\n89 & 89 & 11 & 5 & 0.232905 & [(89, True), (87, False), (90, False), (94, False), (85, False), (88, True), (91, False), (84, True), (96, True), (95, True), (93, True), (86, False), (92, False), (82, False), (54, False), (52, False), (55, False), (83, True), (78, False), (77, True), (51, True), (53, True), (56, True), (79, False), (75, False), (81, True), (57, True), (80, False), (50, False), (48, False), (58, False), (76, True), (70, False), (97, False), (69, True), (47, True), (49, True), (59, False), (71, False), (98, False), (99, False), (60, True), (67, False), (72, False), (46, False), (73, True), (44, False), (61, False), (68, True), (74, True), (100, False), (43, True), (45, True), (62, True), (102, True), (101, False), (63, False), (64, True), (36, False), (65, False), (34, False), (66, True), (37, False), (33, True), (38, False), (35, True), (42, True), (39, False), (25, False), (41, False), (40, True), (23, False), (26, False), (22, True), (24, True), (27, False), (17, False), (28, False), (29, True), (15, False), (18, False), (14, True), (30, False), (19, False), (16, True), (31, True), (32, True), (12, False), (20, False), (21, False), (10, False), (13, False), (9, True), (11, True), (8, False), (6, False), (5, True), (7, True), (4, False), (103, False), (3, False), (105, True), (1, False), (104, True), (0, False), (2, False), (106, False), (111, False), (107, False), (113, True), (108, False), (112, True), (109, False), (110, False), (114, False), (117, False), (115, False), (119, True), (116, True), (118, True), (120, False), (128, False), (121, False), (130, True), (129, True), (122, False), (123, False), (131, False), (124, True), (134, False), (132, False), (136, True), (125, False), (133, True), (135, True), (126, True), (127, True), (137, False), (138, False), (140, True), (139, True), (141, False), (142, False), (144, True), (143, True), (145, False), (146, False), (263, False), (148, True), (147, True), (264, False), (265, False), (149, False), (150, False), (260, False), (152, True), (151, True), (261, False), (262, False), (153, False), (159, False), (154, False), (161, True), (160, True), (155, False), (156, False), (162, False), (167, False), (157, False), (163, False), (169, True), (164, False), (158, True), (168, True), (166, True), (165, True), (170, False), (175, False), (171, False), (177, True), (172, False), (176, True), (173, True), (174, True), (178, False), (186, False), (179, False), (188, True), (180, False), (187, True), (181, False), (185, False), (189, False), (182, False), (184, False), (190, False), (257, False), (192, True), (183, False), (191, True), (258, False), (259, False), (193, False), (196, False), (197, False), (194, False), (195, False), (199, True), (198, True), (200, False), (201, False), (254, False), (203, True), (202, True), (256, True), (255, False), (204, False), (209, False), (205, False), (211, True), (206, False), (210, True), (207, True), (208, True), (212, False), (213, False), (251, False), (215, True), (214, True), (252, False), (253, False), (216, False), (217, False), (219, True), (218, True), (220, False), (223, False), (221, False), (225, True), (222, True), (224, True), (226, False), (232, False), (227, False), (234, True), (233, True), (228, False), (229, False), (235, False), (237, False), (230, False), (236, False), (239, True), (231, True), (238, True), (240, False), (248, False), (241, False), (249, True), (242, False), (250, True), (243, False), (247, False), (244, False), (246, False), (245, False)] \\\\\\\\\\n56 & 56 & 16 & 10 & 0.207524 & [(56, True), (57, True), (55, False), (58, False), (54, False), (96, True), (52, False), (59, False), (67, False), (94, False), (53, True), (51, True), (60, True), (68, True), (95, True), (69, True), (61, False), (90, False), (50, False), (62, True), (89, True), (48, False), (70, False), (97, False), (63, False), (91, False), (93, True), (75, False), (87, False), (64, True), (49, True), (65, False), (71, False), (47, True), (92, False), (98, False), (99, False), (66, True), (76, True), (88, True), (77, True), (72, False), (85, False), (46, False), (84, True), (78, False), (74, True), (44, False), (86, False), (73, True), (100, False), (102, True), (82, False), (45, True), (43, True), (101, False), (79, False), (81, True), (83, True), (80, False), (36, False), (34, False), (37, False), (35, True), (38, False), (33, True), (42, True), (39, False), (25, False), (40, True), (23, False), (26, False), (41, False), (24, True), (27, False), (22, True), (28, False), (17, False), (15, False), (29, True), (18, False), (16, True), (30, False), (19, False), (14, True), (31, True), (20, False), (21, False), (32, True), (12, False), (10, False), (13, False), (11, True), (9, True), (8, False), (6, False), (7, True), (5, True), (4, False), (103, False), (3, False), (104, True), (1, False), (105, True), (0, False), (2, False), (106, False), (111, False), (107, False), (112, True), (108, False), (113, True), (109, False), (110, False), (114, False), (117, False), (115, False), (116, True), (118, True), (119, True), (120, False), (128, False), (121, False), (129, True), (122, False), (130, True), (123, False), (131, False), (134, False), (124, True), (132, False), (133, True), (135, True), (125, False), (136, True), (126, True), (137, False), (127, True), (138, False), (139, True), (140, True), (141, False), (142, False), (143, True), (144, True), (145, False), (146, False), (263, False), (147, True), (148, True), (264, False), (265, False), (149, False), (150, False), (260, False), (151, True), (152, True), (261, False), (262, False), (153, False), (159, False), (154, False), (160, True), (155, False), (161, True), (156, False), (162, False), (167, False), (157, False), (163, False), (168, True), (158, True), (164, False), (169, True), (165, True), (166, True), (170, False), (175, False), (171, False), (176, True), (172, False), (177, True), (174, True), (178, False), (173, True), (186, False), (179, False), (187, True), (180, False), (188, True), (181, False), (185, False), (189, False), (190, False), (257, False), (182, False), (184, False), (192, True), (191, True), (183, False), (258, False), (259, False), (193, False), (196, False), (194, False), (195, False), (197, False), (198, True), (199, True), (200, False), (201, False), (254, False), (256, True), (202, True), (203, True), (255, False), (204, False), (209, False), (205, False), (210, True), (206, False), (211, True), (208, True), (212, False), (207, True), (213, False), (251, False), (214, True), (215, True), (252, False), (253, False), (216, False), (217, False), (218, True), (219, True), (220, False), (223, False), (221, False), (222, True), (224, True), (225, True), (226, False), (232, False), (227, False), (233, True), (228, False), (234, True), (229, False), (235, False), (237, False), (230, False), (236, False), (238, True), (231, True), (239, True), (240, False), (248, False), (241, False), (250, True), (242, False), (249, True), (243, False), (247, False), (244, False), (246, False), (245, False)] \\\\\\\\\\n113 & 113 & 11 & 7 & 0.207201 & [(113, True), (111, False), (114, False), (117, False), (112, True), (115, False), (106, False), (105, True), (119, True), (118, True), (116, True), (107, False), (103, False), (108, False), (120, False), (128, False), (104, True), (121, False), (109, False), (110, False), (4, False), (5, True), (130, True), (129, True), (3, False), (122, False), (6, False), (1, False), (123, False), (131, False), (124, True), (134, False), (7, True), (8, False), (132, False), (0, False), (2, False), (9, True), (136, True), (125, False), (133, True), (135, True), (126, True), (127, True), (10, False), (137, False), (138, False), (11, True), (12, False), (14, True), (140, True), (139, True), (13, False), (15, False), (141, False), (142, False), (16, True), (17, False), (22, True), (144, True), (143, True), (18, False), (23, False), (19, False), (145, False), (146, False), (24, True), (263, False), (20, False), (21, False), (25, False), (33, True), (148, True), (147, True), (26, False), (264, False), (265, False), (34, False), (27, False), (149, False), (150, False), (35, True), (260, False), (28, False), (36, False), (29, True), (43, True), (152, True), (151, True), (37, False), (261, False), (262, False), (30, False), (44, False), (38, False), (153, False), (31, True), (32, True), (159, False), (45, True), (42, True), (154, False), (39, False), (46, False), (47, True), (161, True), (160, True), (155, False), (41, False), (40, True), (100, False), (48, False), (102, True), (156, False), (101, False), (162, False), (167, False), (49, True), (157, False), (163, False), (50, False), (51, True), (169, True), (164, False), (158, True), (168, True), (97, False), (52, False), (166, True), (165, True), (98, False), (99, False), (170, False), (175, False), (53, True), (171, False), (54, False), (177, True), (96, True), (172, False), (176, True), (55, False), (173, True), (174, True), (94, False), (178, False), (56, True), (186, False), (95, True), (179, False), (90, False), (57, True), (188, True), (89, True), (187, True), (91, False), (180, False), (58, False), (87, False), (93, True), (181, False), (185, False), (92, False), (189, False), (59, False), (60, True), (190, False), (257, False), (88, True), (67, False), (182, False), (184, False), (85, False), (61, False), (69, True), (84, True), (192, True), (68, True), (191, True), (86, False), (183, False), (258, False), (259, False), (62, True), (82, False), (63, False), (193, False), (70, False), (196, False), (197, False), (64, True), (83, True), (75, False), (65, False), (71, False), (194, False), (195, False), (78, False), (199, True), (77, True), (72, False), (66, True), (76, True), (198, True), (79, False), (73, True), (74, True), (81, True), (80, False), (200, False), (201, False), (254, False), (203, True), (202, True), (256, True), (255, False), (204, False), (209, False), (205, False), (211, True), (206, False), (210, True), (207, True), (208, True), (212, False), (213, False), (251, False), (215, True), (214, True), (252, False), (253, False), (216, False), (217, False), (219, True), (218, True), (220, False), (223, False), (221, False), (225, True), (222, True), (224, True), (226, False), (232, False), (227, False), (234, True), (233, True), (228, False), (229, False), (235, False), (237, False), (230, False), (236, False), (239, True), (231, True), (238, True), (240, False), (248, False), (241, False), (249, True), (250, True), (242, False), (243, False), (247, False), (244, False), (246, False), (245, False)] \\\\\\\\\\n199 & 199 & 11 & 7 & 0.207201 & [(199, True), (197, False), (200, False), (201, False), (198, True), (254, False), (196, False), (203, True), (192, True), (202, True), (256, True), (255, False), (195, False), (190, False), (204, False), (193, False), (194, False), (209, False), (191, True), (205, False), (189, False), (188, True), (211, True), (206, False), (257, False), (210, True), (207, True), (186, False), (208, True), (258, False), (259, False), (212, False), (213, False), (251, False), (187, True), (178, False), (177, True), (215, True), (214, True), (179, False), (252, False), (253, False), (175, False), (180, False), (216, False), (217, False), (176, True), (181, False), (185, False), (170, False), (169, True), (219, True), (218, True), (171, False), (182, False), (184, False), (167, False), (172, False), (183, False), (220, False), (173, True), (223, False), (168, True), (174, True), (221, False), (162, False), (161, True), (225, True), (224, True), (222, True), (163, False), (159, False), (164, False), (226, False), (166, True), (232, False), (160, True), (165, True), (227, False), (153, False), (152, True), (234, True), (233, True), (154, False), (228, False), (150, False), (155, False), (229, False), (235, False), (237, False), (151, True), (156, False), (230, False), (236, False), (149, False), (148, True), (239, True), (231, True), (238, True), (260, False), (157, False), (146, False), (158, True), (261, False), (262, False), (240, False), (248, False), (147, True), (241, False), (145, False), (144, True), (249, True), (250, True), (263, False), (242, False), (142, False), (243, False), (247, False), (264, False), (265, False), (143, True), (141, False), (244, False), (246, False), (140, True), (245, False), (138, False), (139, True), (137, False), (136, True), (134, False), (135, True), (131, False), (130, True), (132, False), (128, False), (133, True), (129, True), (120, False), (119, True), (121, False), (117, False), (122, False), (118, True), (123, False), (114, False), (113, True), (124, True), (115, False), (111, False), (125, False), (116, True), (126, True), (127, True), (112, True), (106, False), (105, True), (107, False), (103, False), (108, False), (104, True), (109, False), (110, False), (4, False), (5, True), (3, False), (6, False), (1, False), (7, True), (8, False), (0, False), (2, False), (9, True), (10, False), (11, True), (12, False), (14, True), (13, False), (15, False), (16, True), (17, False), (22, True), (18, False), (23, False), (19, False), (24, True), (20, False), (21, False), (25, False), (33, True), (26, False), (34, False), (27, False), (35, True), (28, False), (36, False), (29, True), (43, True), (37, False), (30, False), (44, False), (38, False), (31, True), (32, True), (45, True), (42, True), (39, False), (46, False), (47, True), (41, False), (100, False), (40, True), (48, False), (102, True), (101, False), (49, True), (50, False), (51, True), (97, False), (52, False), (98, False), (99, False), (53, True), (54, False), (96, True), (55, False), (94, False), (56, True), (95, True), (90, False), (57, True), (89, True), (91, False), (58, False), (87, False), (93, True), (92, False), (59, False), (60, True), (88, True), (67, False), (85, False), (61, False), (69, True), (84, True), (68, True), (86, False), (62, True), (82, False), (63, False), (70, False), (64, True), (83, True), (75, False), (65, False), (71, False), (78, False), (77, True), (72, False), (66, True), (76, True), (79, False), (73, True), (74, True), (81, True), (80, False)] \\\\\\\\\\n219 & 219 & 11 & 7 & 0.207201 & [(219, True), (217, False), (220, False), (223, False), (218, True), (216, False), (221, False), (215, True), (225, True), (222, True), (224, True), (213, False), (226, False), (232, False), (214, True), (227, False), (212, False), (211, True), (234, True), (233, True), (251, False), (228, False), (209, False), (229, False), (252, False), (253, False), (235, False), (237, False), (210, True), (230, False), (236, False), (204, False), (203, True), (239, True), (231, True), (238, True), (205, False), (201, False), (206, False), (240, False), (207, True), (248, False), (202, True), (208, True), (241, False), (200, False), (199, True), (249, True), (250, True), (254, False), (242, False), (197, False), (256, True), (243, False), (247, False), (255, False), (198, True), (244, False), (246, False), (196, False), (192, True), (245, False), (195, False), (190, False), (193, False), (194, False), (191, True), (189, False), (188, True), (257, False), (186, False), (258, False), (259, False), (187, True), (178, False), (177, True), (179, False), (175, False), (180, False), (176, True), (181, False), (185, False), (170, False), (169, True), (182, False), (184, False), (171, False), (167, False), (172, False), (183, False), (173, True), (168, True), (174, True), (162, False), (161, True), (163, False), (159, False), (164, False), (166, True), (160, True), (165, True), (153, False), (152, True), (154, False), (150, False), (155, False), (151, True), (156, False), (149, False), (148, True), (260, False), (157, False), (146, False), (158, True), (261, False), (262, False), (147, True), (145, False), (144, True), (263, False), (142, False), (264, False), (265, False), (143, True), (141, False), (140, True), (138, False), (139, True), (137, False), (136, True), (134, False), (135, True), (131, False), (130, True), (132, False), (128, False), (133, True), (129, True), (120, False), (119, True), (121, False), (117, False), (122, False), (118, True), (123, False), (114, False), (113, True), (124, True), (115, False), (111, False), (125, False), (116, True), (126, True), (127, True), (112, True), (106, False), (105, True), (107, False), (103, False), (108, False), (104, True), (109, False), (110, False), (4, False), (5, True), (3, False), (6, False), (1, False), (7, True), (8, False), (0, False), (2, False), (9, True), (10, False), (11, True), (12, False), (14, True), (13, False), (15, False), (16, True), (17, False), (22, True), (18, False), (23, False), (19, False), (24, True), (20, False), (21, False), (25, False), (33, True), (26, False), (34, False), (27, False), (35, True), (28, False), (36, False), (29, True), (43, True), (37, False), (30, False), (44, False), (38, False), (31, True), (32, True), (45, True), (42, True), (39, False), (46, False), (47, True), (41, False), (100, False), (40, True), (48, False), (102, True), (101, False), (49, True), (50, False), (51, True), (97, False), (52, False), (98, False), (99, False), (53, True), (54, False), (96, True), (55, False), (94, False), (56, True), (95, True), (90, False), (57, True), (89, True), (91, False), (58, False), (87, False), (93, True), (92, False), (59, False), (60, True), (88, True), (67, False), (85, False), (61, False), (69, True), (84, True), (68, True), (86, False), (62, True), (82, False), (63, False), (70, False), (64, True), (83, True), (75, False), (65, False), (71, False), (78, False), (77, True), (72, False), (66, True), (76, True), (79, False), (73, True), (74, True), (81, True), (80, False)] \\\\\\\\\\n\\\\bottomrule\\n\\\\end{tabular}\\n'"
      ]
     },
     "execution_count": 6,
     "metadata": {},
     "output_type": "execute_result"
    }
   ],
   "execution_count": 6
  },
  {
   "cell_type": "code",
   "metadata": {
    "ExecuteTime": {
     "end_time": "2025-02-24T11:44:13.064052Z",
     "start_time": "2025-02-24T11:44:13.054538Z"
    }
   },
   "source": [
    "csv_filename = f'subgroups_graph_{PROTEIN_NR_MOLPCBA}_OGBG-MolHIV.csv'\n",
    "output.to_csv(csv_filename)"
   ],
   "outputs": [],
   "execution_count": 7
  },
  {
   "cell_type": "code",
   "metadata": {},
   "source": [
    "lu['color'] = 'Skyblue'\n",
    "lu.loc[lu['target'], 'color'] = 'Red'"
   ],
   "outputs": [],
   "execution_count": null
  },
  {
   "cell_type": "code",
   "metadata": {},
   "source": [
    "# CHANGE THIS TO MAKE THE SUBGROUPS VISIBLE\n",
    "def change_value(rho_val, prototype):\n",
    "    ranks = result.loc[prototype, 'ranks']\n",
    "    reference_group = [x[0] for x in ranks[0:int(rho_val)]]\n",
    "\n",
    "    lu.loc[reference_group, 'color'] = 'Green'\n",
    "    return None"
   ],
   "outputs": [],
   "execution_count": null
  },
  {
   "cell_type": "code",
   "metadata": {},
   "source": [
    "lu['color'] = 'gray'\n",
    "lu['size'] = 500\n",
    "\n",
    "proto = 46\n",
    "rho = output.loc[proto, 'Rho']\n",
    "sigma = output.loc[proto, 'Sigma']\n",
    "change_value(rho, proto)"
   ],
   "outputs": [],
   "execution_count": null
  },
  {
   "cell_type": "code",
   "metadata": {},
   "source": [
    "plt.figure(figsize=(10, 10))\n",
    "nx.draw(G, with_labels=True, node_color=lu['color'], edge_color='gray', node_size=lu['size'], font_size=10)\n",
    "plt.title(\"Network Graph\")\n",
    "plt.show()"
   ],
   "outputs": [],
   "execution_count": null
  },
  {
   "metadata": {},
   "cell_type": "code",
   "source": [
    "result_ablation = find_groups(G, 20, lu, ablation_mode=True)\n",
    "result_ablation"
   ],
   "outputs": [],
   "execution_count": null
  },
  {
   "metadata": {},
   "cell_type": "code",
   "source": [
    "from ablation_metrics import compare_subgroups\n",
    "\n",
    "comparison = compare_subgroups(result, result_ablation, k=10)\n",
    "comparison"
   ],
   "outputs": [],
   "execution_count": null
  },
  {
   "metadata": {},
   "cell_type": "code",
   "source": [
    "from ablation_metrics import evaluate_pattern_subgroups\n",
    "\n",
    "mean_ratio_normal, dist_ratios_normal = evaluate_pattern_subgroups(result, lu, k=10)\n",
    "mean_ratio_ablation, dist_ratios_ablation = evaluate_pattern_subgroups(result_ablation, lu, k=10)\n",
    "\n",
    "print(\"Avg fraction of target=1 in top-10 normal subgroups: \", mean_ratio_normal)\n",
    "print(\"Avg fraction of target=1 in top-10 ablation subgroups:\", mean_ratio_ablation)"
   ],
   "outputs": [],
   "execution_count": null
  },
  {
   "metadata": {},
   "cell_type": "code",
   "source": [
    "import matplotlib.pyplot as plt\n",
    "\n",
    "plt.figure(figsize=(8,5))\n",
    "plt.hist(result['q'], bins=30, alpha=0.5, label='Normal')\n",
    "plt.hist(result_ablation['q'], bins=30, alpha=0.5, label='Ablation')\n",
    "plt.xlabel('Q Score')\n",
    "plt.ylabel('Frequency')\n",
    "plt.title('Distribution of Q in Normal vs. Ablation')\n",
    "plt.legend()\n",
    "plt.show()"
   ],
   "outputs": [],
   "execution_count": null
  },
  {
   "metadata": {},
   "cell_type": "code",
   "source": "",
   "outputs": [],
   "execution_count": null
  }
 ],
 "metadata": {
  "kernelspec": {
   "display_name": "Python 3",
   "language": "python",
   "name": "python3"
  },
  "language_info": {
   "codemirror_mode": {
    "name": "ipython",
    "version": 3
   },
   "file_extension": ".py",
   "mimetype": "text/x-python",
   "name": "python",
   "nbconvert_exporter": "python",
   "pygments_lexer": "ipython3",
   "version": "3.11.9"
  }
 },
 "nbformat": 4,
 "nbformat_minor": 2
}
