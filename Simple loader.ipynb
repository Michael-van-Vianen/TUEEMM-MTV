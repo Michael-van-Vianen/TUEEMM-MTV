{
 "cells": [
  {
   "cell_type": "code",
   "execution_count": 31,
   "metadata": {},
   "outputs": [],
   "source": [
    "import pandas as pd"
   ]
  },
  {
   "cell_type": "code",
   "execution_count": 90,
   "metadata": {},
   "outputs": [
    {
     "name": "stderr",
     "output_type": "stream",
     "text": [
      "C:\\Users\\david\\AppData\\Local\\Temp\\ipykernel_27052\\3609633006.py:4: ParserWarning: Falling back to the 'python' engine because the separator encoded in utf-8 is > 1 char long, and the 'c' engine does not support such separators; you can avoid this warning by specifying engine='python'.\n",
      "  featnames = pd.read_csv(PATH + '.featnames', sep= '´', header = None)\n"
     ]
    }
   ],
   "source": [
    "PATH = \"data/gplus/105646458226420473639\"\n",
    "edges = pd.read_csv(PATH + '.edges', sep= ' ', header = None)\n",
    "attributes = pd.read_csv(PATH + '.feat', sep= ' ', header = None)\n",
    "featnames = pd.read_csv(PATH + '.featnames', sep= '´', header = None)\n",
    "\n",
    "attributes = attributes.set_index(0)"
   ]
  },
  {
   "cell_type": "code",
   "execution_count": 91,
   "metadata": {},
   "outputs": [],
   "source": [
    "def splitgood(x):\n",
    " l = x.split(' ')\n",
    " return ''.join(l[1:])"
   ]
  },
  {
   "cell_type": "code",
   "execution_count": 92,
   "metadata": {},
   "outputs": [],
   "source": [
    "featnames = featnames[0].apply(lambda x: splitgood(x))\n",
    "\n",
    "for x in featnames[featnames.duplicated()].index:\n",
    "    featnames[x] = featnames[x] + '_duplicate'"
   ]
  },
  {
   "cell_type": "code",
   "execution_count": 93,
   "metadata": {},
   "outputs": [],
   "source": [
    "attributes.columns = featnames"
   ]
  },
  {
   "cell_type": "code",
   "execution_count": 96,
   "metadata": {},
   "outputs": [
    {
     "name": "stdout",
     "output_type": "stream",
     "text": [
      "gender:1 count : 3270\n",
      "gender:2 count : 814\n",
      "institution: count : 159\n",
      "job_title:& count : 168\n",
      "job_title:/ count : 109\n",
      "job_title:a count : 150\n",
      "job_title:and count : 406\n",
      "job_title:engineer count : 108\n",
      "job_title:i count : 129\n",
      "job_title:in count : 113\n",
      "job_title:of count : 167\n",
      "job_title:photographer count : 761\n",
      "job_title:photographer, count : 212\n",
      "job_title:photography count : 155\n",
      "job_title:software count : 112\n",
      "job_title:the count : 116\n"
     ]
    }
   ],
   "source": [
    "for feature in featnames:\n",
    "    c = attributes[feature].value_counts()\n",
    "    if c[1] > 100:\n",
    "        print(f'{feature} count : {c[1]}')"
   ]
  },
  {
   "cell_type": "code",
   "execution_count": null,
   "metadata": {},
   "outputs": [],
   "source": []
  }
 ],
 "metadata": {
  "kernelspec": {
   "display_name": "Python 3",
   "language": "python",
   "name": "python3"
  },
  "language_info": {
   "codemirror_mode": {
    "name": "ipython",
    "version": 3
   },
   "file_extension": ".py",
   "mimetype": "text/x-python",
   "name": "python",
   "nbconvert_exporter": "python",
   "pygments_lexer": "ipython3",
   "version": "3.11.9"
  }
 },
 "nbformat": 4,
 "nbformat_minor": 2
}
