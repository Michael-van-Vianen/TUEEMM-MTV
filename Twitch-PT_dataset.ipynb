{
 "cells": [
  {
   "metadata": {},
   "cell_type": "markdown",
   "source": "# Twitch-PT"
  },
  {
   "cell_type": "code",
   "metadata": {
    "ExecuteTime": {
     "end_time": "2025-02-24T15:40:53.352861Z",
     "start_time": "2025-02-24T15:40:49.931854Z"
    }
   },
   "source": [
    "import pandas as pd\n",
    "import networkx as nx\n",
    "from methods import find_groups\n",
    "from ablation_metrics import compare_subgroups, evaluate_pattern_subgroups\n",
    "import matplotlib.pyplot as plt\n",
    "from torch_geometric.datasets import Twitch"
   ],
   "outputs": [],
   "execution_count": 1
  },
  {
   "cell_type": "code",
   "metadata": {
    "ExecuteTime": {
     "end_time": "2025-02-24T15:40:54.104890Z",
     "start_time": "2025-02-24T15:40:54.095451Z"
    }
   },
   "source": [
    "dataset = Twitch(root='./data/Twitch', name='PT')\n",
    "\n",
    "data = dataset[0]"
   ],
   "outputs": [],
   "execution_count": 2
  },
  {
   "cell_type": "code",
   "metadata": {
    "ExecuteTime": {
     "end_time": "2025-02-24T15:40:54.920995Z",
     "start_time": "2025-02-24T15:40:54.915501Z"
    }
   },
   "source": [
    "class CustomGraphDataset:\n",
    "    def __init__(self, dataset):\n",
    "        self.dataset = dataset\n",
    "\n",
    "    def __getitem__(self, idx):\n",
    "        graph_data = self.dataset[idx]\n",
    "        \n",
    "        graph_metrics = {\n",
    "            'edge_index': graph_data.edge_index,\n",
    "            'num_nodes': graph_data.num_nodes,\n",
    "            'node_feat': graph_data.x\n",
    "        }\n",
    "        \n",
    "        labels = graph_data.y\n",
    "        return graph_metrics, labels\n",
    "\n",
    "    def __len__(self):\n",
    "        return len(self.dataset)\n",
    "\n",
    "custom_dataset = CustomGraphDataset(dataset)\n",
    "graph, label = custom_dataset[0]"
   ],
   "outputs": [],
   "execution_count": 3
  },
  {
   "cell_type": "code",
   "metadata": {
    "ExecuteTime": {
     "end_time": "2025-02-24T15:40:55.935731Z",
     "start_time": "2025-02-24T15:40:55.843088Z"
    }
   },
   "source": [
    "edge_index = data.edge_index \n",
    "num_nodes = data.num_nodes \n",
    "G = nx.Graph()\n",
    "\n",
    "G.add_nodes_from(range(num_nodes))\n",
    "\n",
    "edges = list(zip(edge_index[0].tolist(), edge_index[1].tolist()))\n",
    "G.add_edges_from(edges)"
   ],
   "outputs": [],
   "execution_count": 4
  },
  {
   "cell_type": "code",
   "metadata": {
    "ExecuteTime": {
     "end_time": "2025-02-24T15:40:56.870251Z",
     "start_time": "2025-02-24T15:40:56.862420Z"
    }
   },
   "source": [
    "label"
   ],
   "outputs": [
    {
     "data": {
      "text/plain": [
       "tensor([0, 0, 0,  ..., 1, 0, 1])"
      ]
     },
     "execution_count": 5,
     "metadata": {},
     "output_type": "execute_result"
    }
   ],
   "execution_count": 5
  },
  {
   "cell_type": "code",
   "metadata": {},
   "source": [
    "attributes = graph['node_feat']\n",
    "lu = pd.DataFrame(attributes)\n",
    "lu['target'] = label == 1\n",
    "lu.head()"
   ],
   "outputs": [],
   "execution_count": null
  },
  {
   "cell_type": "code",
   "metadata": {},
   "source": [
    "result_normal = find_groups(G, 20, lu, ablation_mode=False)\n",
    "result_normal"
   ],
   "outputs": [],
   "execution_count": null
  },
  {
   "metadata": {},
   "cell_type": "code",
   "source": "result_normal.to_csv('subgroups_twitch.csv')",
   "outputs": [],
   "execution_count": null
  },
  {
   "metadata": {},
   "cell_type": "code",
   "source": [
    "result_ablation = find_groups(G, 20, lu, ablation_mode=True)\n",
    "result_ablation"
   ],
   "outputs": [],
   "execution_count": null
  },
  {
   "metadata": {},
   "cell_type": "code",
   "source": [
    "comparison = compare_subgroups(result_normal, result_ablation, k=10)\n",
    "comparison"
   ],
   "outputs": [],
   "execution_count": null
  },
  {
   "metadata": {},
   "cell_type": "code",
   "source": [
    "mean_ratio_normal, dist_ratios_normal = evaluate_pattern_subgroups(result_normal, lu, k=10)\n",
    "mean_ratio_ablation, dist_ratios_ablation = evaluate_pattern_subgroups(result_ablation, lu, k=10)\n",
    "\n",
    "print(\"Avg fraction of target=1 in top-10 normal subgroups: \", mean_ratio_normal)\n",
    "print(\"Avg fraction of target=1 in top-10 ablation subgroups:\", mean_ratio_ablation)"
   ],
   "outputs": [],
   "execution_count": null
  },
  {
   "metadata": {},
   "cell_type": "code",
   "source": [
    "plt.figure(figsize=(8,5))\n",
    "plt.hist(result_normal['q'], bins=30, alpha=0.5, label='Normal')\n",
    "plt.hist(result_ablation['q'], bins=30, alpha=0.5, label='Ablation')\n",
    "plt.xlabel('Q Score')\n",
    "plt.ylabel('Frequency')\n",
    "plt.title('Distribution of Q in Normal vs. Ablation')\n",
    "plt.legend()\n",
    "plt.show()"
   ],
   "outputs": [],
   "execution_count": null
  },
  {
   "metadata": {},
   "cell_type": "code",
   "source": "",
   "outputs": [],
   "execution_count": null
  }
 ],
 "metadata": {
  "kernelspec": {
   "display_name": "Python 3",
   "language": "python",
   "name": "python3"
  },
  "language_info": {
   "codemirror_mode": {
    "name": "ipython",
    "version": 3
   },
   "file_extension": ".py",
   "mimetype": "text/x-python",
   "name": "python",
   "nbconvert_exporter": "python",
   "pygments_lexer": "ipython3",
   "version": "3.11.10"
  }
 },
 "nbformat": 4,
 "nbformat_minor": 2
}
