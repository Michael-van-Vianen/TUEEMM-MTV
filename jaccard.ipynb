{
 "cells": [
  {
   "cell_type": "code",
   "execution_count": 1,
   "id": "56f9a97f",
   "metadata": {},
   "outputs": [
    {
     "name": "stdout",
     "output_type": "stream",
     "text": [
      "Jaccard distance between top 100 subgroups and test subgroups for feature ViewsBand: 1.0\n"
     ]
    }
   ],
   "source": [
    "# loads 2 csv files, the top 100 subgroups file and the other file to test\n",
    "import pandas as pd\n",
    "\n",
    "top_subgroups = pd.read_csv('top100_subgroups.csv')\n",
    "\n",
    "feature_to_test = 'ViewsBand'  # specify the feature to test\n",
    "test_subgroups = pd.read_csv(f'top100_subgroups_{feature_to_test}.csv')\n",
    "\n",
    "# find the jaccard distance between the two sets of subgroups\n",
    "def jaccard_distance(set1, set2):\n",
    "    intersection = len(set1.intersection(set2))\n",
    "    union = len(set1.union(set2))\n",
    "    if union == 0:\n",
    "        return 0\n",
    "    return 1 - intersection / union\n",
    "\n",
    "def df_to_jaccard_distance(df1, df2):\n",
    "    set1 = set(df1['members'])\n",
    "    set2 = set(df2['members'])\n",
    "    return jaccard_distance(set1, set2)\n",
    "\n",
    "distance = df_to_jaccard_distance(top_subgroups, test_subgroups)\n",
    "\n",
    "print(f'Jaccard distance between top 100 subgroups and test subgroups for feature {feature_to_test}: {distance}')"
   ]
  },
  {
   "cell_type": "code",
   "execution_count": 2,
   "id": "e0b1fd1a",
   "metadata": {},
   "outputs": [
    {
     "name": "stdout",
     "output_type": "stream",
     "text": [
      "Jaccard distance for feature ExplicitLanguage: 1.0\n",
      "Jaccard distance for feature Partner: 1.0\n",
      "Jaccard distance for feature ViewsBand: 1.0\n",
      "Jaccard distance for feature AgeBand: 1.0\n",
      "Jaccard distance for feature HighActivity: 1.0\n"
     ]
    }
   ],
   "source": [
    "# calculate jaccard for all possible features\n",
    "features = ['ExplicitLanguage', 'Partner', 'ViewsBand', 'AgeBand', 'HighActivity']\n",
    "results = {}\n",
    "\n",
    "for feature in features:\n",
    "    test_subgroups = pd.read_csv(f'top100_subgroups_{feature}.csv')\n",
    "    distance = df_to_jaccard_distance(top_subgroups, test_subgroups)\n",
    "    results[feature] = distance\n",
    "    print(f'Jaccard distance for feature {feature}: {distance}')\n"
   ]
  },
  {
   "cell_type": "code",
   "execution_count": null,
   "id": "e068f1ba",
   "metadata": {},
   "outputs": [],
   "source": []
  }
 ],
 "metadata": {
  "kernelspec": {
   "display_name": "Python 3",
   "language": "python",
   "name": "python3"
  },
  "language_info": {
   "codemirror_mode": {
    "name": "ipython",
    "version": 3
   },
   "file_extension": ".py",
   "mimetype": "text/x-python",
   "name": "python",
   "nbconvert_exporter": "python",
   "pygments_lexer": "ipython3",
   "version": "3.13.5"
  }
 },
 "nbformat": 4,
 "nbformat_minor": 5
}
